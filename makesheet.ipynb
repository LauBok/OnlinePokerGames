{
 "cells": [
  {
   "cell_type": "code",
   "execution_count": 2,
   "metadata": {},
   "outputs": [],
   "source": [
    "import PIL.Image as Image\n",
    "import numpy as np"
   ]
  },
  {
   "cell_type": "code",
   "execution_count": 10,
   "metadata": {},
   "outputs": [],
   "source": [
    "im = Image.open('image/small_images_2/C1.png')"
   ]
  },
  {
   "cell_type": "code",
   "execution_count": 17,
   "metadata": {},
   "outputs": [],
   "source": [
    "names = [name + str(num) for name in 'DCHS' for num in range(1, 14)]\n",
    "names += ['JokerBlack', 'JokerRed']\n",
    "names += [color + '_back' for color in ['blue', 'gray', 'green', 'purple', 'red', 'yellow']]"
   ]
  },
  {
   "cell_type": "code",
   "execution_count": 18,
   "metadata": {},
   "outputs": [],
   "source": [
    "paths = ['image/small_images_2/' + name + '.png' for name in names]"
   ]
  },
  {
   "cell_type": "code",
   "execution_count": 28,
   "metadata": {},
   "outputs": [],
   "source": [
    "inew = Image.new('RGBA',(2700, 1000))\n",
    "for i in range(60):\n",
    "    image = Image.open(paths[i]).resize((180,250))\n",
    "    left = 180 * (i % 15)\n",
    "    up = 250 * (i // 15)\n",
    "    bbox = (left, up, left + 180, up + 250)\n",
    "    inew.paste(image, bbox, image)"
   ]
  },
  {
   "cell_type": "code",
   "execution_count": 32,
   "metadata": {},
   "outputs": [
    {
     "output_type": "execute_result",
     "data": {
      "text/plain": "(1000, 2700, 4)"
     },
     "metadata": {},
     "execution_count": 32
    }
   ],
   "source": [
    "np.array(inew).shape"
   ]
  },
  {
   "cell_type": "code",
   "execution_count": 33,
   "metadata": {},
   "outputs": [],
   "source": [
    "inew.save('image/cardsheet_style2.png')"
   ]
  },
  {
   "cell_type": "code",
   "execution_count": 3,
   "metadata": {},
   "outputs": [],
   "source": [
    "im = Image.open('image/timer/0.png')"
   ]
  },
  {
   "cell_type": "code",
   "execution_count": 10,
   "metadata": {},
   "outputs": [],
   "source": [
    "inew = Image.new('RGBA',(1200, 160))\n",
    "for i in range(9):\n",
    "    image = Image.open(f'image/timer/{8 - i}.png').resize((120,160))\n",
    "    left = 120 * (i + 1)\n",
    "    bbox = (left, 0, left + 120, 160)\n",
    "    inew.paste(image, bbox, image)\n",
    "inew.save('image/timersheet.png')"
   ]
  },
  {
   "cell_type": "code",
   "execution_count": 18,
   "metadata": {},
   "outputs": [
    {
     "output_type": "execute_result",
     "data": {
      "text/plain": "(45, 30, 4)"
     },
     "metadata": {},
     "execution_count": 18
    }
   ],
   "source": [
    "im = Image.open('image/number/Asset 1.png')"
   ]
  },
  {
   "cell_type": "code",
   "execution_count": 23,
   "metadata": {},
   "outputs": [],
   "source": [
    "inew = Image.new('RGBA',(300, 45))\n",
    "for i in range(10):\n",
    "    image = Image.open(f'image/number/Asset {(11 - i) if i != 0 else 1}.png').resize((30,45))\n",
    "    left = 30 * (i)\n",
    "    bbox = (left, 0, left + 30, 45)\n",
    "    inew.paste(image, bbox, image)\n",
    "inew.save('image/numbersheet_style1.png')"
   ]
  },
  {
   "cell_type": "code",
   "execution_count": 26,
   "metadata": {},
   "outputs": [
    {
     "output_type": "execute_result",
     "data": {
      "text/plain": "(121, 70, 4)"
     },
     "metadata": {},
     "execution_count": 26
    }
   ],
   "source": [
    "im = Image.open('image/level/Asset 1.png')\n",
    "np.array(im).shape"
   ]
  },
  {
   "cell_type": "code",
   "execution_count": 29,
   "metadata": {},
   "outputs": [],
   "source": [
    "inew = Image.new('RGBA',(1300, 128))\n",
    "for i in range(13):\n",
    "    image = Image.open(f'image/level/Asset {i + 1 if i < 9 else i + 3}.png')\n",
    "    w, _ = image.size\n",
    "    left = 100 * i + (100 - w) // 2\n",
    "    right = left + w\n",
    "    image = image.resize((w, 128))\n",
    "    bbox = (left, 0, right, 128)\n",
    "    inew.paste(image, bbox, image)\n",
    "inew.save('image/levelsheet.png')"
   ]
  },
  {
   "cell_type": "code",
   "execution_count": null,
   "metadata": {},
   "outputs": [],
   "source": []
  }
 ],
 "metadata": {
  "language_info": {
   "codemirror_mode": {
    "name": "ipython",
    "version": 3
   },
   "file_extension": ".py",
   "mimetype": "text/x-python",
   "name": "python",
   "nbconvert_exporter": "python",
   "pygments_lexer": "ipython3",
   "version": "3.7.3-final"
  },
  "orig_nbformat": 2,
  "kernelspec": {
   "name": "python3",
   "display_name": "Python 3"
  }
 },
 "nbformat": 4,
 "nbformat_minor": 2
}